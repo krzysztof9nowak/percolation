{
 "cells": [
  {
   "cell_type": "markdown",
   "metadata": {},
   "source": [
    "# A simple model of a pandemic\n",
    "\n",
    "Introduction\n",
    "\n",
    "---"
   ]
  },
  {
   "cell_type": "code",
   "execution_count": null,
   "metadata": {},
   "outputs": [],
   "source": [
    "from lattice import SquareLattice\n",
    "from model import PandemicModel"
   ]
  },
  {
   "cell_type": "code",
   "execution_count": null,
   "metadata": {},
   "outputs": [],
   "source": [
    "lattice = SquareLattice(length=100)\n",
    "model = PandemicModel(\n",
    "    lattice,\n",
    "    transmission_prob=0.25,\n",
    "    vaccine_frac=0.42,\n",
    "    infected_are_immune=True,\n",
    "    travel_rate=10,\n",
    ")"
   ]
  },
  {
   "cell_type": "code",
   "execution_count": null,
   "metadata": {},
   "outputs": [],
   "source": [
    "model.init_state()\n",
    "model.animate(n_days=200)"
   ]
  },
  {
   "cell_type": "code",
   "execution_count": null,
   "metadata": {},
   "outputs": [],
   "source": [
    "model.evolve(n_days=500)\n",
    "model.plot_evolution()"
   ]
  },
  {
   "cell_type": "markdown",
   "metadata": {},
   "source": [
    "## Notes about programming\n",
    "\n",
    "\n",
    "```python\n",
    "from lattice import SquareLattice\n",
    "from model import PandemicModel\n",
    "```\n",
    "\n",
    "```python\n",
    "lattice = SquareLattice(length=10)\n",
    "model = PandemicModel(\n",
    "    lattice,\n",
    "    transmission_prob=1.0,\n",
    ")\n",
    "```\n",
    "\n",
    "```python\n",
    "model.animate()\n",
    "```"
   ]
  },
  {
   "cell_type": "code",
   "execution_count": null,
   "metadata": {},
   "outputs": [],
   "source": [
    "help(model)"
   ]
  }
 ],
 "metadata": {
  "kernelspec": {
   "display_name": "Python 3",
   "language": "python",
   "name": "python3"
  },
  "language_info": {
   "codemirror_mode": {
    "name": "ipython",
    "version": 3
   },
   "file_extension": ".py",
   "mimetype": "text/x-python",
   "name": "python",
   "nbconvert_exporter": "python",
   "pygments_lexer": "ipython3",
   "version": "3.9.1"
  }
 },
 "nbformat": 4,
 "nbformat_minor": 4
}
