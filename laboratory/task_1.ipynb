{
 "cells": [
  {
   "cell_type": "markdown",
   "id": "indirect-christianity",
   "metadata": {},
   "source": [
    "# Task 1 : Warm-up exercise\n",
    "---\n",
    "\n",
    "This notebook is intended to guide you through the (small number) of commands you need to load and run the model.\n",
    "At the end of the notebook, you will use the model to generate some data, which you will plot (by hand or with e.g. Excel) and compare to a theoretical prediction.\n",
    "This is science...but perhaps not as you know it!\n",
    "\n",
    "## Jupyter notebooks\n",
    "\n",
    "First things first: this document you're reading right now is called a **Jupyter notebook**.\n",
    "Such a notebook contains a number of **cells** which may in turn contain either Python code or commentary (such as this one).\n",
    "\n",
    "### Running  and interrupting cells\n",
    "\n",
    "The most important thing to be able to do is to **run** a cell, which executes the code if it's a code cell, and does nothing notable otherwise.\n",
    "Running a cell is acheived by clicking the | &#9658; Run | button in the top panel while the cell is selected, or alternatively pressing `Shift-Enter` on your keyboard.\n",
    "\n",
    "Try running the code cell below."
   ]
  },
  {
   "cell_type": "code",
   "execution_count": null,
   "id": "compatible-aurora",
   "metadata": {},
   "outputs": [],
   "source": [
    "print(\"I'm a code cell. I exist so that I might be executed.\")"
   ]
  },
  {
   "cell_type": "markdown",
   "id": "green-medicare",
   "metadata": {},
   "source": [
    "Notice that code cells have a label `In [ ]` which changes to `In [N]` when they've been run.\n",
    "The number `N` tells you that this is the N-th cell that you've run during this session.\n",
    "\n",
    "<div class=\"alert alert-block alert-warning\">\n",
    "<b>Warning!</b> \n",
    "    It's generally a bad idea to run cells in anything other than the order in which they appear in the notebook.\n",
    "    However, it's fine to re-run a cell many times before moving onto the next one.\n",
    "</div>\n",
    "\n",
    "When we run a code cell, what we're really doing is sending an instruction to the Python **kernel**, telling it to execute this chunk of code.\n",
    "Try running the cell below, which tells the kernel to go to sleep for 10 seconds."
   ]
  },
  {
   "cell_type": "code",
   "execution_count": null,
   "id": "progressive-serum",
   "metadata": {},
   "outputs": [],
   "source": [
    "from time import sleep\n",
    "try:\n",
    "    print(\"The kernel is going to sleep...\")\n",
    "    sleep(10)\n",
    "except KeyboardInterrupt:\n",
    "    print(\"Really? Couldn't even give me 10 seconds of sleep??\")\n",
    "print(\"The kernel is awake again\")"
   ]
  },
  {
   "cell_type": "markdown",
   "id": "universal-kennedy",
   "metadata": {},
   "source": [
    "In this case you should have noticed that the left indicator read `In [*]` for 10 seconds, before updating with a number.\n",
    "The star indicates a cell that is **currently running**.\n",
    "\n",
    "You can interrupt a cell while it's running using the 'stop' button | &#9632; | next to the run button.\n",
    "Try running the previous cell again, but this time interrupt it before the 10 seconds is up.\n",
    "\n",
    "In general, when you use the stop button, you'll see some nasty error message saying something about a `KeyboardInterrupt`.\n",
    "That's ok!\n",
    "\n",
    "### Undoing, clearing, restarting\n",
    "\n",
    "The undo system in Jupyter is, frankly, a pain.\n",
    "`Ctrl-Z` works on a cell-by-cell basis, so it may not always behave as you expect, and in particular it won't undo operations such as moving cells.\n",
    "If you accidentally delete a cell, you can look under the 'Edit' tab and select **Undo Delete Cells**.\n",
    "\n",
    "<div class=\"alert alert-block alert-warning\">\n",
    "<b>Warning!</b> \n",
    "    Watch out for the 'cut cells' option &#9986; which is rather precariously situated next to the 'insert cell' button. If you accidentally cut a cell, go to Edit: Undo Delete Cells.\n",
    "</div>\n",
    "\n",
    "Sometimes you may want to just wipe the slate clean and start again.\n",
    "There is a 'restart' button next to stop and run, labelled &#8635; .\n",
    "However, it is better to go to the 'Kernel' tab and select **'Restart and clear output'** in the dropdown menu.\n",
    "\n",
    "As a last resort, if things have really gone pear-shaped, you can delete the whole folder from Noteable and re-clone the repository from Github to restore the original version."
   ]
  },
  {
   "cell_type": "markdown",
   "id": "first-programmer",
   "metadata": {},
   "source": [
    "## Using the model\n",
    "\n",
    "We're now ready to get going with the model you'll be using in this lab.\n",
    "\n",
    "### Importing the model code\n",
    "\n",
    "The first thing we need to do is load, or **import** the code we're going to be using.\n",
    "\n",
    "Run the cell below to do this."
   ]
  },
  {
   "cell_type": "code",
   "execution_count": null,
   "id": "answering-customs",
   "metadata": {},
   "outputs": [],
   "source": [
    "from p1b_percolation.lattice import SquareLattice\n",
    "from p1b_percolation.model import PercolationModel"
   ]
  },
  {
   "cell_type": "markdown",
   "id": "touched-framing",
   "metadata": {},
   "source": [
    "This needs to be done every time you restart the kernel.\n",
    "\n",
    "\n",
    "<div class=\"alert alert-block alert-warning\">\n",
    "<b>Warning!</b> \n",
    "    If you see errors that say either \"name 'SquareLattice' is not defined\" or \"name 'PercolationModel' is not defined\", you may have forgotten to run this cell.\n",
    "</div>"
   ]
  },
  {
   "cell_type": "markdown",
   "id": "caroline-logan",
   "metadata": {},
   "source": [
    "### Running an animation\n",
    "\n",
    "Executing the cell below will generate an animation of the model, using the default parameters.\n",
    "\n",
    "If you've not seen Python code before and are interested in understanding what these lines of code are doing on a basic level, feel free to take 5 minutes here to read over [Further reading: Python programming for the curious](#Further-reading:-Python-programming-for-the-curious) before returning to the task.\n",
    "\n",
    "Animations take a little while to render, after which you can control their playback using the buttons below."
   ]
  },
  {
   "cell_type": "code",
   "execution_count": null,
   "id": "rough-corps",
   "metadata": {},
   "outputs": [],
   "source": [
    "lattice = SquareLattice()\n",
    "model = PercolationModel(lattice)\n",
    "\n",
    "model.animate()"
   ]
  },
  {
   "cell_type": "markdown",
   "id": "continental-latex",
   "metadata": {},
   "source": [
    "### Adding parameters\n",
    "\n",
    "We can change the behaviour of the model by providing various **parameters** to the functions\\*, which will need to be placed within the brackets `( ... )` when we call the function.\n",
    "As in mathematics, things that appear in the brackets next to functions are called **arguments**.\n",
    "For example, $\\sin(x)$ is the result of the evaluating the function $\\sin$ with the argument $x$.\n",
    "\n",
    "Actually, we have already been providing a parameter to `PercolationModel` - `lattice`!\n",
    "\n",
    "In the cell below, we change the lattice size to make it longer than it is high, and change the length of the animation so that it covers the entire evolution.\n",
    "\n",
    "We also add an argument to `PercolationModel`, which assigns every node (square) a probability of being 'frozen' at the start of the simulation.\n",
    "In this case, we can interpret the frozen nodes as representing opaque (light-absorbing) particles.\n",
    "\n",
    "\\* Here, I use the term 'function' in the loosest possible sense, as anything that is called with parameters, or **arguments**, using the syntax `function(arguments)`."
   ]
  },
  {
   "cell_type": "code",
   "execution_count": null,
   "id": "legendary-shame",
   "metadata": {},
   "outputs": [],
   "source": [
    "lattice = SquareLattice(10, 50)\n",
    "model = PercolationModel(lattice, 0.02)\n",
    "\n",
    "model.animate(51)"
   ]
  },
  {
   "cell_type": "markdown",
   "id": "understood-train",
   "metadata": {},
   "source": [
    "## Percolation\n",
    "\n",
    "Run the cell below."
   ]
  },
  {
   "cell_type": "code",
   "execution_count": null,
   "id": "inappropriate-sarah",
   "metadata": {},
   "outputs": [],
   "source": [
    "lattice = SquareLattice(25, 100)\n",
    "model = PercolationModel(lattice, 0.1)\n",
    "\n",
    "model.animate(101)"
   ]
  },
  {
   "cell_type": "markdown",
   "id": "discrete-drama",
   "metadata": {},
   "source": [
    "You'll (almost certainly) see that the light gets absorbed well before it reaches the opposite edge.\n",
    "We will describe this situation as a '**failure to percolate**'.\n",
    "\n",
    "\n",
    "<div class=\"alert alert-block alert-success\">\n",
    "<b>Definition:</b> We will say that a simulation <b>percolates</b> if any square on the right-most edge of the box changes colour. In this case, this is interpreted as one or more photons penetrating through the medium and reaching our detector.\n",
    "</div>\n",
    "\n",
    "In the next cell, see if you can identify, by trial and error, the largest value of `frozen_prob` that still allows the model to percolate.\n",
    "To do this, change the number on the right hand side of the equals sign `frozen_prob = X`, and then run the cell."
   ]
  },
  {
   "cell_type": "code",
   "execution_count": null,
   "id": "large-success",
   "metadata": {},
   "outputs": [],
   "source": [
    "frozen_prob = 0.2  # change me!\n",
    "\n",
    "lattice = SquareLattice(50, 50)\n",
    "model = PercolationModel(lattice, frozen_prob)\n",
    "\n",
    "model.animate(51)"
   ]
  },
  {
   "cell_type": "markdown",
   "id": "dominican-bahamas",
   "metadata": {},
   "source": [
    "# TO DO - probabilistic not the best terminology\n",
    "\n",
    "You should notice that, for values of `frozen_prob` between about 0.05 and 0.12, the simulation sometimes percolates and sometimes doesn't.\n",
    "This is because we are working with a *probabilistic model*; all nodes have a probability of being frozen, but the exact set which are frozen varies between simulations.\n",
    "\n",
    "So, if you felt like something was wrong with the wording of the previous question, you were completely correct.\n",
    "The question \"*does the system percolate with* `frozen_prob = X`?\" is not a valid one.\n",
    "Instead, we should ask \"*what is the probability that the system percolates when* `frozen_prob = X`?\"\n",
    "\n",
    "## Probabilistic models\n",
    "\n",
    "There is a very good, very fundamental reason why probabilistic models \n",
    "Can you think of a \n",
    "\n",
    "What is the use of probabilistic models?\n",
    "What exactly is wrong with "
   ]
  },
  {
   "cell_type": "markdown",
   "id": "heavy-fifteen",
   "metadata": {},
   "source": [
    "## Calculating the theoretical percolation probability\n",
    "\n",
    "In its current form, this model may strike you as being particularly simple.\n",
    "Indeed, it is not too tricky to calculate the probability that a simulation percolates by hand.\n",
    "\n",
    "Actually, we can use this to our advantage, since we will be able to check that our model is working as expected by comparing simulation results to analytical results.\n",
    "These sorts of 'sanity checks' are very important in modelling; before making your model overly complicated, it is very sensible to check that it reproduces a known result in a simple test-case!\n",
    "\n",
    "Before doing the calculation let us define our variables.\n",
    "Each node has a fixed probability of being frozen, \n",
    "\n",
    "$$\n",
    "\\Pr(\\text{node is frozen}) \\equiv q\n",
    "$$\n",
    "\n",
    "which is equal to `frozen_prob`.\n",
    "The lattice has $n$ rows and $m$ columns.\n",
    "\n",
    "The first thing to notice is that, since the light substance can only travel right (not up or down), each row is independent of every other row.\n",
    "\n",
    "> Show that the probability $r$ that a *single row* percolates (i.e. there are no frozen nodes on that row) is\n",
    ">\n",
    "> $$\\Pr(\\text{single row percolates}) \\equiv r = (1 - q)^m$$\n",
    "\n",
    "> Next, show that the probability that *at least one* of the $n$ rows percolates is\n",
    ">\n",
    "> $$\\Pr(\\text{at least one row percolates}) \\equiv p = 1 - (1 - r)^n$$\n",
    "\n",
    "**Hint 1**: If $\\Pr(A)$ describes the probability of event $A$ occuring and $\\Pr(B)$ describes the probability of another, independent event occurring, then the probability that *both* $A$ *and* $B$ occur is \n",
    "\n",
    "$$\n",
    "\\Pr(\\text{both } A \\text{ and } B \\text{ occur}) \\equiv\n",
    "\\Pr(A \\cap B) = \\Pr(A) \\Pr(B)\n",
    "$$\n",
    "\n",
    "**Hint 2**: The probability of *at least one* row percolates is one minus the probability that *zero* rows percolate.\n",
    "\n",
    "\n",
    "\n",
    "## Testing the model\n",
    "\n",
    "The cell below will run a number, `repeats`, of separate simulations and print out the fraction of these that percolated, denoted $f$.\n",
    "\n",
    "You should choose a number of repeats, and then run the cell for a range of different values of `frozen_prob`, so that the lower values lead to approximately 100% of simulations percolating ($f = 1$), and the higher values lead to simulations which almost never percolate ($f = 0$).\n",
    "\n",
    "Record your results in a table, making sure to keep a note of the theoretical prediction and the number of repeats.\n",
    "Leave a column blank; you will need calculate errors on your data points shortly.\n",
    "For example, the table could look like\n",
    "\n",
    "| Frozen prob ($q$) | Theoretical percolation prob ($p$) | Repeats ($k$) | Simulation results ($f$) | Error ($\\sigma$) |\n",
    "| --- | --- | --- | --- | --- |\n",
    "| ... | ... | ... | ... | ... |\n"
   ]
  },
  {
   "cell_type": "code",
   "execution_count": null,
   "id": "available-recall",
   "metadata": {},
   "outputs": [],
   "source": [
    "frozen_prob = 0.1  # change this value!\n",
    "repeats = 100  # and this one!\n",
    "\n",
    "lattice = SquareLattice(50, 50)\n",
    "model = PercolationModel(lattice, frozen_prob)\n",
    "\n",
    "model.estimate_percolation_prob(repeats)"
   ]
  },
  {
   "cell_type": "markdown",
   "id": "opening-arrow",
   "metadata": {},
   "source": [
    "This cell is left intentionally blank"
   ]
  },
  {
   "cell_type": "markdown",
   "id": "olive-formation",
   "metadata": {},
   "source": [
    "## Calculating errors\n",
    "\n",
    "We're now armed with a theoretical prediction, $p$, and a set of results $f$.\n",
    "\n",
    "However, it is important to realise that we can never *calculate* the percolation probability using simulations, but we can *estimate* it by running a large number of simulations and applying *statistics*.\n",
    "\n",
    "More specifically, we will take the fraction of simulations that percolate to be an *estimator* for the true percolation probability.\n",
    "\n",
    "<div class=\"alert alert-block alert-info\">\n",
    "<b>Note:</b> \n",
    "    It may seem like we are overly stressing this point, but the distinction between an <b>estimator</b> and <b>the quantity that it is estimating</b> is easily overlooked and yet absolutely crucial to get correct statistics.\n",
    "See the module Fourier analysis and Statistics later on in your course to find out more!\n",
    "</div>\n",
    "\n",
    "Our estimator can be written\n",
    "\n",
    "$$\n",
    "f = \\frac{1}{N} \\sum_{i=1}^N b_i \\tag{Estimator}\n",
    "$$\n",
    "\n",
    "where $b_i$ are equal to either 0 (for simulations which don't percolate) or 1 (for those that do), and $N$ is the number of simulations (`repeats`).\n",
    "This formula should look familiar to those of you who have done statistics before; it is the *sample mean* of our simulations.\n",
    "\n",
    "Now the question becomes: how do we tell if our estimate $f$ is in agreement with the theoretical prediction $p$?\n",
    "The answer is that we need to calculate the *standard error* on $f$, which we will denote $\\sigma_f$.\n",
    "This allows us to quantify the agreement by making statements such as\n",
    "* _\"the simulations agree with theory to within 1 standard error\"_\n",
    "* _\"the model gives an answer that is $5\\sigma$ away from the expected value\"_\n",
    "\n",
    "In this case, the quantity $(N \\times f)$ follows a binomial distribution, which leads to the following formula for the standard error on $f$\n",
    "\n",
    "$$\n",
    "\\sigma_f = \\sqrt{\\frac{p(1 - p)}{N}} \\tag{Standard error}\n",
    "$$\n",
    "\n",
    "<div class=\"alert alert-block alert-danger\">\n",
    "<b>Note for CO+TAs</b> We could ask them to argue that Nf is a binomial random variable, and perhaps have a bonus task that gets them to calculate this standard error, starting from the variance of the Bernoulli distribution, adding $N$ of these variances. It would be nice to see where this formula comes from.\n",
    "</div>\n",
    "\n",
    "Notice that the formula for the standard error involves $p$, the true probability, and not $f$, the estimate of the probability."
   ]
  },
  {
   "cell_type": "markdown",
   "id": "adaptive-linux",
   "metadata": {},
   "source": [
    "# TO DO - motivate this"
   ]
  },
  {
   "cell_type": "code",
   "execution_count": null,
   "id": "animal-suite",
   "metadata": {},
   "outputs": [],
   "source": [
    "from p1b_percolation.scripts.parameter_scan import parameter_scan\n",
    "\n",
    "lattice = SquareLattice(50, 50)\n",
    "model = PercolationModel(lattice)\n",
    "\n",
    "# Modify these parameters to control the values of frozen_prob\n",
    "start = 0.03\n",
    "stop = 0.16\n",
    "num_points = 30\n",
    "repeats = 100\n",
    "\n",
    "parameter_scan(model, start, stop, num_points, repeats)"
   ]
  },
  {
   "cell_type": "markdown",
   "id": "thorough-dependence",
   "metadata": {},
   "source": [
    "This cell is left intentionally blank."
   ]
  },
  {
   "cell_type": "markdown",
   "id": "olive-memorabilia",
   "metadata": {},
   "source": [
    "Do all of the points agree with the theoretical curve to within one error bar?\n",
    "Comment on this."
   ]
  },
  {
   "cell_type": "markdown",
   "id": "excellent-ivory",
   "metadata": {},
   "source": [
    "# Further reading: Python programming for the curious\n",
    "\n",
    "...\n",
    "\n",
    "However, this is purely to provide some explanation for those who want it.\n",
    "It is **absolutely not part of of the laboratory to learn this terminology**, and to be totally clear, **no programming knowledge is required to complete this laboratory and gain full marks**.\n",
    "\n",
    "> *Modules* are essentially just locations (files) where bits of code are grouped together and stored.\n",
    "> We can load, or *import* some code from a module using the following syntax\n",
    "> ```python\n",
    "> from my_module import my_code\n",
    "> ```\n",
    "\n",
    "In the first cell we import two 'bits of code', `SquareLattice` and `PercolationModel`, from two different modules, `p1b_percolation.lattice` and `p1b_percolation.model`.\n",
    "\n",
    "```python\n",
    "from p1b_percolation.lattice import SquareLattice\n",
    "from p1b_percolation.model import PercolationModel\n",
    "```\n",
    "\n",
    "So what are these 'bits of code' that we've imported?\n",
    "In this case, `SquareLattice` and `PercolationModel` are both *classes*.\n",
    "\n",
    "> *Classes* act as flexible templates, from which Python is able to create *objects*.\n",
    "> The flexibility comes from the fact that we can specify certain *parameters* (like tuning the dials on a machine) when creating an object.\n",
    "> The syntax for creating an object from a class is\n",
    "> ```python\n",
    "> my_object = MyClass(my_parameter, my_second_parameter, ...)\n",
    "> ```\n",
    "\n",
    "The next thing we do is create two objects: `lattice` and `model` from the two classes.\n",
    "\n",
    "```python\n",
    "lattice = SquareLattice()\n",
    "model = PercolationModel(lattice)\n",
    "```\n",
    "`lattice` is actually given as a *parameter* to the `PercolationModel` class.\n",
    "You might think it looks like there are no other parameters.\n",
    "There are, but by not specifying them we just use the default values.\n",
    "\n",
    "Once an object is created, we can interact with it.\n",
    "In particular, we might want to ask it to\n",
    "* Tell us the value of a certain *attribute* : `print(object.attribute)`\n",
    "* Execute one of its *methods* : `object.method(argument_1, argument_2, ...)`\n",
    "* Modify the value of an attribute : `object.attribute = new_value`\n",
    "\n",
    "So when we run the animation,\n",
    "```python\n",
    "model.animate(n_steps=100)\n",
    "```\n",
    "we're telling `model` to execute it's `animation` method, while passing the *argument* `n_steps=100` that tells it to complete 100 iterations.\n",
    "\n",
    "\n",
    "Now this all sounds incredibly abstract, but underneath the strange terminology are concepts that will seem very intuitive.\n",
    "A 'real world' example will serve us well to explain how classes and objects work.\n",
    "\n",
    "### A real world example\n",
    "---\n",
    "\n",
    "Imagine you are the chief baker in a bakery.\n",
    "Every day you make a selection of delicious loaves, cakes, pastries from scratch.\n",
    "However, your bakery has become so popular that you just can't keep up with demand, so you decide to invest in a machine that can make the dough and the batter for you.\n",
    "\n",
    "In this story, the machine will be the analogue of the Python programming language.\n",
    "It contains lots of complicated circuitry (*microcode*) but as the baker you rarely need to worry about all that.\n",
    "\n",
    "The machine has two main settings: 'batter' (used to make cakes) and 'dough' (for bread).\n",
    "These are two distinct *classes*.\n",
    "\n",
    "Of course, there are different sorts of dough, depending on what kind of bread you're making.\n",
    "So, after selecting the 'dough' setting, you are presented with a list of *parameters* - type of flour, amount of yeast, amount of salt... - which you can tune to get exactly the dough that you want.\n",
    "\n",
    "You set the parameters to how you want them, and hit the 'start' button.\n",
    "A couple of hours later, the dough pops out.\n",
    "We now have an *object* that has been created based on the 'dough' class and the specific parameters you chose when starting the machine.\n",
    "\n",
    "What's next?\n",
    "You might want to leave the dough to prove for a while, perhaps shape it into a nice loaf-shape, and at some point it's going to need baking.\n",
    "All of these things are analogous to *methods* belonging to an object.\n",
    "You could also say that the dough has certain *attributes*, for example: 'time spent proving', 'shape', 'baked'.\n",
    "\n",
    "Let's see how this story would play out in some Python code!\n",
    "```python\n",
    "from bread_maker import Dough, Batter  # import our classes\n",
    "\n",
    "# Make the brown_dough object from the Dough class, using these specific parameters\n",
    "brown_dough = Dough(water=\"225ml\", flour=\"300g\", flour_type=\"wholemeal\", yeast=\"7g\", salt=\"1tsp\")\n",
    "\n",
    "if brown_dough.shape is not \"pretty\":\n",
    "    brown_dough.make_pretty()  # shape the dough\n",
    "\n",
    "brown_dough.prove(hours=2)  # prove the dough\n",
    "\n",
    "brown_dough.bake(hours=1)\n",
    "\n",
    "brown_dough.set_price(\"£1.50\")\n",
    "```"
   ]
  },
  {
   "cell_type": "code",
   "execution_count": null,
   "id": "sunrise-overview",
   "metadata": {},
   "outputs": [],
   "source": []
  }
 ],
 "metadata": {
  "kernelspec": {
   "display_name": "Python 3",
   "language": "python",
   "name": "python3"
  },
  "language_info": {
   "codemirror_mode": {
    "name": "ipython",
    "version": 3
   },
   "file_extension": ".py",
   "mimetype": "text/x-python",
   "name": "python",
   "nbconvert_exporter": "python",
   "pygments_lexer": "ipython3",
   "version": "3.7.6"
  }
 },
 "nbformat": 4,
 "nbformat_minor": 5
}
