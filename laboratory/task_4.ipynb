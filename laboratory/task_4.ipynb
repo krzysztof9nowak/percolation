{
 "cells": [
  {
   "cell_type": "code",
   "execution_count": null,
   "id": "intermediate-excerpt",
   "metadata": {},
   "outputs": [],
   "source": [
    "from p1b_pandemic.lattice import SquareLattice\n",
    "from p1b_pandemic.model import PandemicModel\n",
    "from p1b_pandemic.scripts.percolation import parameter_scan"
   ]
  },
  {
   "cell_type": "code",
   "execution_count": null,
   "id": "nutritional-isolation",
   "metadata": {},
   "outputs": [],
   "source": [
    "lattice = SquareLattice(\n",
    "    dimensions=(50, 50),\n",
    "    n_connections=4,\n",
    ")\n",
    "model = PandemicModel(\n",
    "    lattice=lattice,\n",
    "    vaccine_frac = 0.5,\n",
    "    transmission_prob=0.25,\n",
    "    recovery_time=21,\n",
    "    recovered_are_immune=True,\n",
    ")"
   ]
  },
  {
   "cell_type": "code",
   "execution_count": null,
   "id": "affected-saturday",
   "metadata": {},
   "outputs": [],
   "source": [
    "model.animate(n_days=150)"
   ]
  },
  {
   "cell_type": "code",
   "execution_count": null,
   "id": "radical-archives",
   "metadata": {},
   "outputs": [],
   "source": [
    "import numpy as np\n",
    "parameter_scan(model, values=np.linspace(0.1, 0.6, 50), repeats=100)"
   ]
  },
  {
   "cell_type": "code",
   "execution_count": null,
   "id": "running-sensitivity",
   "metadata": {},
   "outputs": [],
   "source": []
  }
 ],
 "metadata": {
  "kernelspec": {
   "display_name": "Python 3",
   "language": "python",
   "name": "python3"
  },
  "language_info": {
   "codemirror_mode": {
    "name": "ipython",
    "version": 3
   },
   "file_extension": ".py",
   "mimetype": "text/x-python",
   "name": "python",
   "nbconvert_exporter": "python",
   "pygments_lexer": "ipython3",
   "version": "3.9.1"
  }
 },
 "nbformat": 4,
 "nbformat_minor": 5
}
