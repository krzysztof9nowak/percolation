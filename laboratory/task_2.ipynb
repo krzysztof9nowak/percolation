{
 "cells": [
  {
   "cell_type": "markdown",
   "id": "indirect-christianity",
   "metadata": {},
   "source": [
    "# Task 1 : Warm-up exercise\n",
    "\n"
   ]
  },
  {
   "cell_type": "markdown",
   "id": "automatic-palestinian",
   "metadata": {},
   "source": [
    "## Hidden cell: programming\n",
    "\n",
    "In the cell below we will *import* the code that we're going to want to run.\n",
    "The syntax for this is\n",
    "```python\n",
    "from LOCATION import SOME_CODE\n",
    "```\n",
    "\n",
    "The more technical name for `LOCATION` is a *module*, but you can think of this as just a file containing the code we'd like to import.\n",
    "\n",
    "In the cell below, we are going to import two *classes*."
   ]
  },
  {
   "cell_type": "code",
   "execution_count": 1,
   "id": "answering-customs",
   "metadata": {},
   "outputs": [],
   "source": [
    "from p1b_pandemic.lattice import SquareLattice\n",
    "from p1b_pandemic.model import PandemicModel"
   ]
  },
  {
   "cell_type": "markdown",
   "id": "offshore-fifteen",
   "metadata": {},
   "source": [
    "You can think of the classes, i.e. `SquareLattice` and `PandemicModel` as flexible templates from which Python is able to create *objects*. In the cell below, we will create an object from each of the two classes.\n",
    "\n",
    "A real world example will serve us well to explain how classes and objects work. ==TODO=="
   ]
  },
  {
   "cell_type": "code",
   "execution_count": null,
   "id": "rough-corps",
   "metadata": {},
   "outputs": [],
   "source": [
    "lattice = SquareLattice()\n",
    "model = PandemicModel(lattice)"
   ]
  },
  {
   "cell_type": "markdown",
   "id": "funny-solomon",
   "metadata": {},
   "source": [
    "In the next cell we will tell the model to run an animation.\n",
    "\n",
    "Note the pair of brackets; these are *crucial*.\n",
    "By including the brackets, what we are really saying is\n",
    "> \"hello `model`, please check that you contain an function called `animate`, and then *execute* that function.\"\n",
    "\n",
    "Without the brackets, all we are saying is\n",
    "> \"hello `model`, please check that you contain an attribute called `animate`.\"\n"
   ]
  },
  {
   "cell_type": "code",
   "execution_count": null,
   "id": "loaded-aurora",
   "metadata": {},
   "outputs": [],
   "source": [
    "model.animate()"
   ]
  },
  {
   "cell_type": "markdown",
   "id": "continental-latex",
   "metadata": {},
   "source": [
    "## Well that was rubbish...\n",
    "\n",
    "Fortunately, this is not all we can do.\n",
    "Remember that classes are *flexible* templates; the behaviour of the objects they create can depend on the *parameters* we provide (i.e. where the 'dials' are set when the object is created).\n",
    "So far, we have not provided any parameters, so the rubbishy default ones have been used.\n",
    "\n",
    "The parameters go inside the brackets when we create the objects.\n",
    "In fact, we have already provided a parameter to `PandemicModel` --- `lattice`.\n",
    "\n",
    "Let's start by changing the size of the lattice so that it's longer in the horizontal direction."
   ]
  },
  {
   "cell_type": "code",
   "execution_count": null,
   "id": "legendary-shame",
   "metadata": {},
   "outputs": [],
   "source": [
    "dimensions = (25, 100)\n",
    "\n",
    "lattice = SquareLattice(dimensions)\n",
    "model = PandemicModel(lattice)\n",
    "\n",
    "model.animate()"
   ]
  },
  {
   "cell_type": "markdown",
   "id": "collect-footwear",
   "metadata": {},
   "source": [
    "## This still sucks...\n",
    "\n",
    "Indeed it does.For one thing, the animation did not run for long enough. We will increase the number of updates by providing an argument for `model.animate`.\n",
    "\n",
    "TODO vaccine frac"
   ]
  },
  {
   "cell_type": "code",
   "execution_count": null,
   "id": "accessory-strap",
   "metadata": {},
   "outputs": [],
   "source": [
    "dimensions = (25, 100)\n",
    "vaccine_frac = 0.1\n",
    "\n",
    "lattice = SquareLattice(dimensions)\n",
    "model = PandemicModel(lattice, vaccine_frac=vaccine_frac)\n",
    "\n",
    "model.animate(100)"
   ]
  },
  {
   "cell_type": "markdown",
   "id": "extreme-reception",
   "metadata": {},
   "source": [
    "## Better but still boring...\n",
    "\n",
    "What happened here? Clearly, the grey nodes blocked the transmission of 'red-ness'.\n",
    "\n",
    "If we use quite a deal of imagination, we can try to interpret this in terms of a pandemic.\n",
    "The story will be that the grey nodes correspond to *immune* units of population, the red ones are *infected* with the virus, and the yellow nodes are the remainder who are *susceptible* to the virus.\n",
    "\n",
    "You might fairly ask\n",
    "> in what universe would this be an accurate model of a pandemic??\n",
    "\n",
    "We can actually be fairly precise about this; one of the advantages of model-building is that it is obvious what your assumptions are.\n",
    "In this case we assume\n",
    "* Transmission of the virus occurs with 100% probability between two 'units of population' if one of them is infected and the other is susceptible, and never occurs when one of the units of population is immune.\n",
    "* Every 'unit of population' has exactly two contacts; one which is able to infect them with the virus, and a second which they are able to transmit to (assuming no immunity).\n"
   ]
  },
  {
   "cell_type": "markdown",
   "id": "understood-train",
   "metadata": {},
   "source": [
    "> What is the probability that the virus is transmitted to the right edge?\n",
    "\n",
    "There are $n$ nodes in total, of which $k = n * f_\\text{vacc}$ are immune.\n",
    "This is something you can work out analytically.\n",
    "\n",
    "### Hint\n",
    "\n",
    "\n"
   ]
  },
  {
   "cell_type": "markdown",
   "id": "collective-check",
   "metadata": {},
   "source": [
    "Can we check that the simulation agrees?\n",
    "\n",
    "Need to do some error analysis...\n",
    "\n",
    "Get them to understand that we have a binomial distribution for the number of successes.\n",
    "\n",
    "Mean = prob percolation x num repeats $ = p n $\n",
    "\n",
    "Variance = sum of individual variances of Bernoulli dist\n",
    "\n",
    "Standard error is $\\sqrt{p(1-p)}.\n"
   ]
  },
  {
   "cell_type": "code",
   "execution_count": 8,
   "id": "introductory-example",
   "metadata": {
    "scrolled": true
   },
   "outputs": [],
   "source": [
    "dimensions = (25, 1000)\n",
    "\n",
    "lattice = SquareLattice(dimensions)\n",
    "model = PandemicModel(lattice)"
   ]
  },
  {
   "cell_type": "code",
   "execution_count": 11,
   "id": "available-recall",
   "metadata": {},
   "outputs": [
    {
     "name": "stdout",
     "output_type": "stream",
     "text": [
      "0.04\n"
     ]
    }
   ],
   "source": [
    "model.vaccine_frac = 0.005\n",
    "fraction_that_percolated = model.estimate_percolation_prob(repeats=25)\n",
    "print(fraction_that_percolated)"
   ]
  },
  {
   "cell_type": "code",
   "execution_count": 12,
   "id": "satisfactory-handbook",
   "metadata": {},
   "outputs": [
    {
     "name": "stdout",
     "output_type": "stream",
     "text": [
      "0.28\n"
     ]
    }
   ],
   "source": [
    "model.vaccine_frac = 0.004  # must update *before* re-initialising\n",
    "model.init_state()\n",
    "fraction_that_percolated = model.estimate_percolation_prob(repeats=25)\n",
    "print(fraction_that_percolated)"
   ]
  },
  {
   "cell_type": "code",
   "execution_count": null,
   "id": "bridal-vision",
   "metadata": {},
   "outputs": [],
   "source": []
  }
 ],
 "metadata": {
  "kernelspec": {
   "display_name": "Python 3",
   "language": "python",
   "name": "python3"
  },
  "language_info": {
   "codemirror_mode": {
    "name": "ipython",
    "version": 3
   },
   "file_extension": ".py",
   "mimetype": "text/x-python",
   "name": "python",
   "nbconvert_exporter": "python",
   "pygments_lexer": "ipython3",
   "version": "3.9.1"
  }
 },
 "nbformat": 4,
 "nbformat_minor": 5
}
