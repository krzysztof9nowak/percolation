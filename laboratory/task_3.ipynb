{
 "cells": [
  {
   "cell_type": "markdown",
   "id": "subsequent-information",
   "metadata": {},
   "source": [
    "# Task 3: A simple model of a pandemic\n",
    "\n",
    "In this notebook we will increase the `n_links` parameter to 4, so that the percolating substance can propagate in all four directions.\n",
    "Instead of starting with the top row of the lattice, we will instead start with a central *nucleus*, and define percolation to occur when the percolating substance reaches *any* of the four boundaries.\n",
    "\n",
    "Our model is very similar to the simple pandemic model proposed [here](http://35.161.88.15/interactive/outbreak/), which is also based on a square lattice, where each node represents a 'unit of population' (e.g. a person, or a village), that can either be\n",
    "* Infected (the percolating substance, a.k.a the virus, occupies the node)\n",
    "* Susceptible (the node has not been infected yet)\n",
    "* Immune (the frozen nodes represent vaccinated individuals. We can also add to them with nodes who have previously had the virus, but since recovered)\n",
    "\n",
    "The main aim of this notebook is not to build an accurate model of a pandemic, but to follow through the same analysis as the previous notebook and determine the nature of the percolation transition in the infinite-lattice limit.\n",
    "Another way of phrasing this is\n",
    "\n",
    "> What fraction of the population needs to be immune so that there is an effectively zero percent chance of the virus spreading over very large scales (i.e. through a long chain of transmissions)?\n",
    "\n",
    "<div class=\"alert alert-block alert-info\">\n",
    "<b>Lab book:</b> \n",
    "    Do you expect the percolation threshold in the infinite limit to be the same as the one you found in the previous notebook, for the 3-link model?\n",
    "    Explain your reasoning.\n",
    "    (This is not an easy question!)\n",
    "</div>\n",
    "\n",
    "A similar concept is that of **herd immunity**, which asks\n",
    "\n",
    "> What fraction of the population needs to be immune so that the levels of infection cannot be sustained without constant external input?\n",
    "\n",
    "If the virus reaches the boundary of the lattice (i.e. the simulation percolates), this implies that the initial infection in the centre has led to *at least* one infection on the boundary, which we might interpret as herd immunity not being reached.\n",
    "\n",
    "<div class=\"alert alert-block alert-warning\">\n",
    "<b>Warning!</b> \n",
    "    This model does not purport to be a realistic model of a pandemic, and herd immunity is identified with the percolation transition in the way we have just outlined. The point is that properties of models, that we can simulate, can be studied to gain insight into real phenomena, so long as we're careful about it!\n",
    "</div>"
   ]
  },
  {
   "cell_type": "code",
   "execution_count": null,
   "id": "divine-render",
   "metadata": {},
   "outputs": [],
   "source": [
    "from p1b_percolation.lattice import SquareLattice\n",
    "from p1b_percolation.model import PercolationModel\n",
    "from p1b_percolation.scripts.parameter_scan import parameter_scan"
   ]
  },
  {
   "cell_type": "markdown",
   "id": "herbal-railway",
   "metadata": {},
   "source": [
    "## Running this variation of the model\n",
    "\n",
    "This is not very different from the 3-link case, but we now specify that each node is linked to all 4 of its nearest neighbours.\n"
   ]
  },
  {
   "cell_type": "code",
   "execution_count": null,
   "id": "wrapped-composite",
   "metadata": {},
   "outputs": [],
   "source": [
    "lattice = SquareLattice(50, n_links=4)\n",
    "model = PercolationModel(lattice, inert_prob=0.35)\n",
    "\n",
    "model.animate(75)"
   ]
  },
  {
   "cell_type": "markdown",
   "id": "linear-nepal",
   "metadata": {},
   "source": [
    "## Finding the percolation threshold\n",
    "\n",
    "Just as before, you will need to run the cell below for a range of different values of `n_rows` ($L$).\n",
    "\n",
    "Record your results in a table, making sure to note down the associated errors on $q_0$ **with an appropriate precision**.\n",
    "Also record your values for `qmin` and `qmax` in the table; these will need to be carefully selected for each lattice size so that almost all of the data points take values between 0 and 1, but are not 0 or 1.\n",
    "Leave columns for the logarithms and the error on $\\log q_0$.\n",
    "\n",
    "<div class=\"alert alert-block alert-info\">\n",
    "<b>Lab book:</b> \n",
    "Record your results in a table.\n",
    "</div>\n",
    "\n",
    "Aim to gather results for 10-15 different lattice sizes ranging between `n_rows = 20` and `n_rows = 300`."
   ]
  },
  {
   "cell_type": "code",
   "execution_count": null,
   "id": "chicken-philip",
   "metadata": {},
   "outputs": [],
   "source": [
    "n_rows = 100  # change this!\n",
    "n_cols = n_rows\n",
    "qmin = 0.3\n",
    "qmax = 0.5\n",
    "\n",
    "lattice = SquareLattice(n_rows, n_cols, n_links=4)\n",
    "model = PercolationModel(lattice)\n",
    "\n",
    "parameter_scan(model, qmin, qmax, num=35, repeats=25)"
   ]
  },
  {
   "cell_type": "markdown",
   "id": "canadian-jumping",
   "metadata": {},
   "source": [
    "<div class=\"alert alert-block alert-info\">\n",
    "<b>Lab book:</b> \n",
    "Plot a graph of $\\log L$ v.s. $\\log q_0(L)$ and draw a line of best fit.\n",
    "Calculate the gradient of your line, with an estimate of its error.\n",
    "</div>\n",
    "\n",
    "<div class=\"alert alert-block alert-info\">\n",
    "<b>Lab book:</b> \n",
    "    Discuss your plot.\n",
    "    Is the straight line a good fit to your data (after taking logs)?\n",
    "    Refer to the residuals in your answer.\n",
    "</div>\n",
    "\n",
    "<div class=\"alert alert-block alert-info\">\n",
    "<b>Lab book:</b> \n",
    "    What can you conclude about the percolation threshold when we extrapolate your plot to infinite lattice size?\n",
    "    Does it match your prediction from earlier?\n",
    "</div>\n",
    "\n",
    "<div class=\"alert alert-block alert-info\">\n",
    "<b>Lab book:</b> \n",
    "    Comment on the quality of the logistic best-fit curve, referring to the error bars and the residuals.\n",
    "    Relate your answer to the reliability of our estimates for the percolation threshold.\n",
    "</div>\n",
    "\n",
    "<div class=\"alert alert-block alert-danger\">\n",
    "<b>Notebook complete:</b> You've finished the experiment. Give yourself a pat on the back.\n",
    "</div>"
   ]
  },
  {
   "cell_type": "markdown",
   "id": "mounted-commodity",
   "metadata": {},
   "source": [
    "# Extension: playing with the model\n",
    "\n",
    "There are some other parameters to play with, if you are so inclined.\n",
    "\n",
    "Run the following cell to see an example animation."
   ]
  },
  {
   "cell_type": "code",
   "execution_count": null,
   "id": "prostate-partner",
   "metadata": {},
   "outputs": [],
   "source": [
    "lattice = SquareLattice(100, n_links=4)\n",
    "model = PercolationModel(\n",
    "    lattice,\n",
    "    inert_prob=0.25,\n",
    "    transmission_prob=0.25,\n",
    "    recovery_time=14,\n",
    "    recovered_are_inert=True,\n",
    ")\n",
    "\n",
    "model.animate(250, dynamic_overlay=True)"
   ]
  },
  {
   "cell_type": "markdown",
   "id": "adolescent-walker",
   "metadata": {},
   "source": [
    "To see what parameters are available, and an explanation of what they do, you can ask Python to print out the documentation for any given function, class, attribute, method...\n",
    "\n",
    "The syntax for this is just\n",
    "```python\n",
    "help(thing)\n",
    "```\n",
    "\n",
    "The documentation may seem very confusing.\n",
    "Don't worry - as you become more familiar with programming, documentation quickly becomes much easier to comprehend (the same goes for error messages)."
   ]
  },
  {
   "cell_type": "code",
   "execution_count": null,
   "id": "frank-thriller",
   "metadata": {},
   "outputs": [],
   "source": [
    "help(parameter_scan)"
   ]
  },
  {
   "cell_type": "markdown",
   "id": "minor-exhibition",
   "metadata": {},
   "source": [
    "Try running the help function on `SquareLattice` and, if you're feeling brave, `PercolationModel`.\n",
    "\n",
    "In the next cell we introduce `shuffle_prob`, which was originally intended to simulate people travelling around and spreading the virus."
   ]
  },
  {
   "cell_type": "code",
   "execution_count": null,
   "id": "respective-oklahoma",
   "metadata": {},
   "outputs": [],
   "source": [
    "lattice = SquareLattice(100, n_links=4)\n",
    "model = PercolationModel(\n",
    "    lattice,\n",
    "    p_inert=0.25,\n",
    "    transmission_prob=0.25,\n",
    "    recovery_time=14,\n",
    "    recovered_are_frozen=True,\n",
    "    shuffle_prob=0.01\n",
    ")\n",
    "\n",
    "model.animate(250, dynamic_overlay=True)"
   ]
  },
  {
   "cell_type": "markdown",
   "id": "passing-knock",
   "metadata": {},
   "source": [
    "How would you extend this model to make it a more realistic model of a pandemic?"
   ]
  },
  {
   "cell_type": "code",
   "execution_count": null,
   "id": "foster-remedy",
   "metadata": {},
   "outputs": [],
   "source": []
  }
 ],
 "metadata": {
  "kernelspec": {
   "display_name": "Python 3",
   "language": "python",
   "name": "python3"
  },
  "language_info": {
   "codemirror_mode": {
    "name": "ipython",
    "version": 3
   },
   "file_extension": ".py",
   "mimetype": "text/x-python",
   "name": "python",
   "nbconvert_exporter": "python",
   "pygments_lexer": "ipython3",
   "version": "3.7.6"
  }
 },
 "nbformat": 4,
 "nbformat_minor": 5
}
