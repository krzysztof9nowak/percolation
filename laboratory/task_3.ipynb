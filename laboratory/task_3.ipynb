{
 "cells": [
  {
   "cell_type": "code",
   "execution_count": null,
   "id": "chronic-creation",
   "metadata": {},
   "outputs": [],
   "source": [
    "from p1b_pandemic.lattice import SquareLattice\n",
    "from p1b_pandemic.model import PandemicModel\n",
    "from p1b_pandemic.scripts.percolation import parameter_scan"
   ]
  },
  {
   "cell_type": "code",
   "execution_count": null,
   "id": "european-victoria",
   "metadata": {},
   "outputs": [],
   "source": [
    "lattice = SquareLattice(\n",
    "    dimensions=(50, 50),\n",
    "    n_connections=2,\n",
    ")\n",
    "model = PandemicModel(\n",
    "    lattice=lattice,\n",
    "    vaccine_frac = 0.25,\n",
    ")"
   ]
  },
  {
   "cell_type": "code",
   "execution_count": null,
   "id": "directed-underwear",
   "metadata": {},
   "outputs": [],
   "source": [
    "# model.animate(n_days=150)"
   ]
  },
  {
   "cell_type": "code",
   "execution_count": null,
   "id": "international-disaster",
   "metadata": {},
   "outputs": [],
   "source": [
    "import numpy as np\n",
    "values = np.linspace(0.18, 0.45, 50)\n",
    "parameter_scan(model, values=values, repeats=100)"
   ]
  },
  {
   "cell_type": "code",
   "execution_count": null,
   "id": "sorted-plumbing",
   "metadata": {},
   "outputs": [],
   "source": [
    "lattice = SquareLattice(\n",
    "    dimensions=(25, 200),\n",
    "    n_connections=2,\n",
    ")\n",
    "model = PandemicModel(\n",
    "    lattice=lattice,\n",
    "    vaccine_frac = 0.25,\n",
    ")\n",
    "values = np.linspace(0.18, 0.45, 50)\n",
    "parameter_scan(model, values=values, repeats=100)"
   ]
  },
  {
   "cell_type": "code",
   "execution_count": null,
   "id": "judicial-florence",
   "metadata": {},
   "outputs": [],
   "source": [
    "lattice = SquareLattice(\n",
    "    dimensions=(50, 200),\n",
    "    n_connections=2,\n",
    ")\n",
    "model = PandemicModel(\n",
    "    lattice=lattice,\n",
    "    vaccine_frac = 0.25,\n",
    ")\n",
    "values = np.linspace(0.18, 0.45, 50)\n",
    "parameter_scan(model, values=values, repeats=100)"
   ]
  },
  {
   "cell_type": "code",
   "execution_count": null,
   "id": "moving-humidity",
   "metadata": {},
   "outputs": [],
   "source": [
    "lattice = SquareLattice(\n",
    "    dimensions=(25, 100),\n",
    "    n_connections=3,\n",
    ")\n",
    "model = PandemicModel(\n",
    "    lattice=lattice,\n",
    "    vaccine_frac = 0.25,\n",
    ")\n",
    "model.animate(n_days=150)"
   ]
  },
  {
   "cell_type": "code",
   "execution_count": null,
   "id": "aboriginal-prime",
   "metadata": {},
   "outputs": [],
   "source": [
    "values = np.linspace(0.18, 0.45, 50)\n",
    "parameter_scan(model, values=values, repeats=100)"
   ]
  },
  {
   "cell_type": "code",
   "execution_count": null,
   "id": "talented-command",
   "metadata": {},
   "outputs": [],
   "source": [
    "lattice = SquareLattice(\n",
    "    dimensions=(100, 100),\n",
    "    n_connections=4,\n",
    ")\n",
    "model = PandemicModel(\n",
    "    lattice=lattice,\n",
    "    vaccine_frac = 0.25,\n",
    ")\n",
    "model.animate(n_days=150)"
   ]
  },
  {
   "cell_type": "code",
   "execution_count": null,
   "id": "tested-faith",
   "metadata": {},
   "outputs": [],
   "source": [
    "values = np.linspace(0.3, 0.7, 50)\n",
    "parameter_scan(model, values=values, repeats=100)"
   ]
  },
  {
   "cell_type": "code",
   "execution_count": null,
   "id": "varying-cursor",
   "metadata": {},
   "outputs": [],
   "source": []
  }
 ],
 "metadata": {
  "kernelspec": {
   "display_name": "Python 3",
   "language": "python",
   "name": "python3"
  },
  "language_info": {
   "codemirror_mode": {
    "name": "ipython",
    "version": 3
   },
   "file_extension": ".py",
   "mimetype": "text/x-python",
   "name": "python",
   "nbconvert_exporter": "python",
   "pygments_lexer": "ipython3",
   "version": "3.9.1"
  }
 },
 "nbformat": 4,
 "nbformat_minor": 5
}
