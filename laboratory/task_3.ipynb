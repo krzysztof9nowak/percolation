{
 "cells": [
  {
   "cell_type": "markdown",
   "id": "substantial-church",
   "metadata": {},
   "source": [
    "# Task 3: modelling a pandemic\n",
    "\n"
   ]
  },
  {
   "cell_type": "code",
   "execution_count": null,
   "id": "intermediate-excerpt",
   "metadata": {},
   "outputs": [],
   "source": [
    "from p1b_percolation.lattice import SquareLattice\n",
    "from p1b_percolation.model import PercolationModel\n",
    "from p1b_percolation.scripts.parameter_scan import parameter_scan"
   ]
  },
  {
   "cell_type": "code",
   "execution_count": null,
   "id": "nutritional-isolation",
   "metadata": {},
   "outputs": [],
   "source": [
    "lattice = SquareLattice(50, n_links=4)\n",
    "model = PercolationModel(\n",
    "    lattice,\n",
    "    frozen_prob=0.25,\n",
    "    transmission_prob=0.2,\n",
    "    recovery_time=14,\n",
    "    recovered_are_frozen=True,\n",
    ")\n",
    "\n",
    "model.animate(150)"
   ]
  },
  {
   "cell_type": "code",
   "execution_count": null,
   "id": "radical-archives",
   "metadata": {},
   "outputs": [],
   "source": [
    "lattice = SquareLattice(100, n_links=4)\n",
    "model = PercolationModel(\n",
    "    lattice,\n",
    "    frozen_prob=0.25,\n",
    "    recovery_time=14,\n",
    "    recovered_are_frozen=True,\n",
    ")\n",
    "\n",
    "\n",
    "parameter_scan(model, start=0.01, stop=0.2, num=25, repeats=50, parameter=\"transmission_prob\")"
   ]
  },
  {
   "cell_type": "code",
   "execution_count": null,
   "id": "running-sensitivity",
   "metadata": {},
   "outputs": [],
   "source": [
    "lattice = SquareLattice(200, n_links=4)\n",
    "model = PercolationModel(\n",
    "    lattice,\n",
    "    frozen_prob=0.25,\n",
    "    recovery_time=14,\n",
    "    recovered_are_frozen=True,\n",
    ")\n",
    "\n",
    "\n",
    "parameter_scan(model, start=0.01, stop=0.2, num=25, repeats=50, parameter=\"transmission_prob\")"
   ]
  },
  {
   "cell_type": "code",
   "execution_count": null,
   "id": "flying-trace",
   "metadata": {},
   "outputs": [],
   "source": []
  }
 ],
 "metadata": {
  "kernelspec": {
   "display_name": "Python 3",
   "language": "python",
   "name": "python3"
  },
  "language_info": {
   "codemirror_mode": {
    "name": "ipython",
    "version": 3
   },
   "file_extension": ".py",
   "mimetype": "text/x-python",
   "name": "python",
   "nbconvert_exporter": "python",
   "pygments_lexer": "ipython3",
   "version": "3.7.6"
  }
 },
 "nbformat": 4,
 "nbformat_minor": 5
}
